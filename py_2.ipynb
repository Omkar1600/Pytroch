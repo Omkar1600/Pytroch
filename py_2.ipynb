{
 "cells": [
  {
   "cell_type": "code",
   "execution_count": 2,
   "id": "c0757af5",
   "metadata": {},
   "outputs": [
    {
     "data": {
      "text/plain": [
       "'1.12.1+cpu'"
      ]
     },
     "execution_count": 2,
     "metadata": {},
     "output_type": "execute_result"
    }
   ],
   "source": [
    "import numpy as np\n",
    "import torch \n",
    "from torch import nn\n",
    "import matplotlib.pyplot as plt\n",
    "torch.__version__"
   ]
  },
  {
   "cell_type": "code",
   "execution_count": 3,
   "id": "a6f3dbf7",
   "metadata": {},
   "outputs": [
    {
     "name": "stdout",
     "output_type": "stream",
     "text": [
      "cpu\n"
     ]
    }
   ],
   "source": [
    "device = \"cuda\" if torch.cuda.is_available() else \"cpu\"\n",
    "print(f\"{device}\")"
   ]
  },
  {
   "cell_type": "code",
   "execution_count": 4,
   "id": "fc7fda0c",
   "metadata": {},
   "outputs": [
    {
     "name": "stderr",
     "output_type": "stream",
     "text": [
      "C:\\Users\\LENOVO\\AppData\\Local\\Temp\\ipykernel_27076\\789796350.py:6: UserWarning: Failed to initialize NumPy: module compiled against API version 0x10 but this version of numpy is 0xf (Triggered internally at  ..\\torch\\csrc\\utils\\tensor_numpy.cpp:68.)\n",
      "  X=torch.arange(s,e,st).unsqueeze(dim=1)\n"
     ]
    },
    {
     "data": {
      "text/plain": [
       "tensor([[0.0000],\n",
       "        [0.0200],\n",
       "        [0.0400],\n",
       "        [0.0600],\n",
       "        [0.0800],\n",
       "        [0.1000],\n",
       "        [0.1200],\n",
       "        [0.1400],\n",
       "        [0.1600],\n",
       "        [0.1800]])"
      ]
     },
     "execution_count": 4,
     "metadata": {},
     "output_type": "execute_result"
    }
   ],
   "source": [
    "w=0.7\n",
    "b=0.3\n",
    "s=0\n",
    "e=1\n",
    "st=0.02\n",
    "X=torch.arange(s,e,st).unsqueeze(dim=1)\n",
    "Y=w*X+b\n",
    "X[:10]"
   ]
  },
  {
   "cell_type": "code",
   "execution_count": 5,
   "id": "216cb72d",
   "metadata": {},
   "outputs": [
    {
     "data": {
      "text/plain": [
       "(40, 10, 40, 10)"
      ]
     },
     "execution_count": 5,
     "metadata": {},
     "output_type": "execute_result"
    }
   ],
   "source": [
    "t_s=int(0.8* len(X))\n",
    "x_train,y_train=X[:t_s],Y[:t_s]\n",
    "x_test,y_test=X[t_s:],Y[t_s:]\n",
    "len(x_train),len(x_test),len(y_train),len(y_test)"
   ]
  },
  {
   "cell_type": "code",
   "execution_count": 6,
   "id": "3d994bf4",
   "metadata": {},
   "outputs": [],
   "source": [
    "def plot_predictions(train_data=x_train, \n",
    "                     train_labels=y_train, \n",
    "                     test_data=x_test, \n",
    "                     test_labels=y_test, \n",
    "                     predictions=None):\n",
    "  \"\"\"\n",
    "  Plots training data, test data and compares predictions.\n",
    "  \"\"\"\n",
    "  plt.figure(figsize=(10, 7))\n",
    "\n",
    "  # Plot training data in blue\n",
    "  plt.scatter(train_data, train_labels, c=\"b\", s=4, label=\"Training data\")\n",
    "  \n",
    "  # Plot test data in green\n",
    "  plt.scatter(test_data, test_labels, c=\"g\", s=4, label=\"Testing data\")\n",
    "\n",
    "  if predictions is not None:\n",
    "    # Plot the predictions in red (predictions were made on the test data)\n",
    "    plt.scatter(test_data, predictions, c=\"r\", s=4, label=\"Predictions\")\n",
    "\n",
    "  # Show the legend\n",
    "  plt.legend(prop={\"size\": 14});\n",
    "\n",
    "    "
   ]
  },
  {
   "cell_type": "code",
   "execution_count": 7,
   "id": "0386a017",
   "metadata": {},
   "outputs": [
    {
     "data": {
      "text/plain": [
       "OrderedDict([('linear_layer.weight', tensor([[0.7645]])),\n",
       "             ('linear_layer.bias', tensor([0.8300]))])"
      ]
     },
     "execution_count": 7,
     "metadata": {},
     "output_type": "execute_result"
    }
   ],
   "source": [
    "class LinearRegressionModel(nn.Module):\n",
    "    def __init__(self):\n",
    "        super().__init__()\n",
    "        self.linear_layer=nn.Linear(in_features=1,out_features=1)\n",
    "    def forward(self,x:torch.Tensor) -> torch.Tensor:\n",
    "        return self.linear_layer(x)\n",
    "torch.manual_seed(42)\n",
    "mod_1=LinearRegressionModel()\n",
    "mod_1.state_dict()"
   ]
  },
  {
   "cell_type": "code",
   "execution_count": 8,
   "id": "823ac41f",
   "metadata": {},
   "outputs": [
    {
     "name": "stdout",
     "output_type": "stream",
     "text": [
      "Requirement already satisfied: numpy in c:\\users\\lenovo\\appdata\\local\\programs\\python\\python310\\lib\\site-packages (1.22.2)"
     ]
    },
    {
     "name": "stderr",
     "output_type": "stream",
     "text": [
      "WARNING: You are using pip version 22.0.3; however, version 22.3.1 is available.\n",
      "You should consider upgrading via the 'C:\\Users\\LENOVO\\AppData\\Local\\Programs\\Python\\Python310\\python.exe -m pip install --upgrade pip' command.\n"
     ]
    },
    {
     "name": "stdout",
     "output_type": "stream",
     "text": [
      "\n"
     ]
    }
   ],
   "source": [
    "!pip install numpy"
   ]
  },
  {
   "cell_type": "code",
   "execution_count": 11,
   "id": "9c160f0e",
   "metadata": {},
   "outputs": [],
   "source": [
    "loss_fn=nn.L1Loss()\n",
    "optimizer=torch.optim.SGD(params=mod_1.parameters(),lr=0.01)"
   ]
  },
  {
   "cell_type": "code",
   "execution_count": 16,
   "id": "9fc3b598",
   "metadata": {},
   "outputs": [
    {
     "name": "stdout",
     "output_type": "stream",
     "text": [
      "loss:0.006215679459273815 | test loss:0.014086711220443249\n",
      "loss:0.002787243574857712 | test loss:0.005814164876937866\n",
      "loss:0.0012645035749301314 | test loss:0.013801807537674904\n",
      "loss:0.0012645035749301314 | test loss:0.013801807537674904\n",
      "loss:0.0012645035749301314 | test loss:0.013801807537674904\n",
      "loss:0.0012645035749301314 | test loss:0.013801807537674904\n",
      "loss:0.0012645035749301314 | test loss:0.013801807537674904\n",
      "loss:0.0012645035749301314 | test loss:0.013801807537674904\n",
      "loss:0.0012645035749301314 | test loss:0.013801807537674904\n",
      "loss:0.0012645035749301314 | test loss:0.013801807537674904\n",
      "loss:0.0012645035749301314 | test loss:0.013801807537674904\n",
      "loss:0.0012645035749301314 | test loss:0.013801807537674904\n",
      "loss:0.0012645035749301314 | test loss:0.013801807537674904\n",
      "loss:0.0012645035749301314 | test loss:0.013801807537674904\n",
      "loss:0.0012645035749301314 | test loss:0.013801807537674904\n",
      "loss:0.0012645035749301314 | test loss:0.013801807537674904\n",
      "loss:0.0012645035749301314 | test loss:0.013801807537674904\n",
      "loss:0.0012645035749301314 | test loss:0.013801807537674904\n",
      "loss:0.0012645035749301314 | test loss:0.013801807537674904\n",
      "loss:0.0012645035749301314 | test loss:0.013801807537674904\n"
     ]
    }
   ],
   "source": [
    "torch.manual_seed(42)\n",
    "epochs=200\n",
    "for epoch in range(epochs):\n",
    "    mod_1.train()\n",
    "    y_pred=mod_1(x_train)\n",
    "    loss=loss_fn(y_pred,y_train)\n",
    "    optimizer.zero_grad()\n",
    "    loss.backward()\n",
    "    optimizer.step()\n",
    "    mod_1.eval()\n",
    "    with torch.inference_mode():\n",
    "        test_pred = mod_1(x_test)\n",
    "        test_loss = loss_fn(test_pred,y_test)\n",
    "        if epoch % 10 == 0:\n",
    "            print(f\"loss:{loss} | test loss:{test_loss}\")"
   ]
  },
  {
   "cell_type": "code",
   "execution_count": 18,
   "id": "4ca4ab63",
   "metadata": {},
   "outputs": [
    {
     "data": {
      "text/plain": [
       "tensor([[0.8600],\n",
       "        [0.8739],\n",
       "        [0.8878],\n",
       "        [0.9018],\n",
       "        [0.9157],\n",
       "        [0.9296],\n",
       "        [0.9436],\n",
       "        [0.9575],\n",
       "        [0.9714],\n",
       "        [0.9854]])"
      ]
     },
     "execution_count": 18,
     "metadata": {},
     "output_type": "execute_result"
    }
   ],
   "source": [
    "mod_1.eval()\n",
    "with torch.inference_mode():\n",
    "    y_preds = mod_1(x_test)\n",
    "y_preds"
   ]
  },
  {
   "cell_type": "code",
   "execution_count": null,
   "id": "57cf9775",
   "metadata": {},
   "outputs": [],
   "source": []
  }
 ],
 "metadata": {
  "kernelspec": {
   "display_name": "Python 3 (ipykernel)",
   "language": "python",
   "name": "python3"
  },
  "language_info": {
   "codemirror_mode": {
    "name": "ipython",
    "version": 3
   },
   "file_extension": ".py",
   "mimetype": "text/x-python",
   "name": "python",
   "nbconvert_exporter": "python",
   "pygments_lexer": "ipython3",
   "version": "3.10.2"
  }
 },
 "nbformat": 4,
 "nbformat_minor": 5
}
